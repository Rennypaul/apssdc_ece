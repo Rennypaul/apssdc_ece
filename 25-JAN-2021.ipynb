{
 "cells": [
  {
   "cell_type": "code",
   "execution_count": 6,
   "id": "unavailable-torture",
   "metadata": {},
   "outputs": [
    {
     "name": "stdout",
     "output_type": "stream",
     "text": [
      "hello world\n"
     ]
    }
   ],
   "source": [
    "a=hello world\n",
    "print('hello world')"
   ]
  },
  {
   "cell_type": "code",
   "execution_count": 7,
   "id": "retired-toronto",
   "metadata": {},
   "outputs": [
    {
     "data": {
      "text/plain": [
       "range(1, 10)"
      ]
     },
     "execution_count": 7,
     "metadata": {},
     "output_type": "execute_result"
    }
   ],
   "source": [
    "range(1,10)"
   ]
  },
  {
   "cell_type": "code",
   "execution_count": 9,
   "id": "corrected-mattress",
   "metadata": {},
   "outputs": [
    {
     "data": {
      "text/plain": [
       "range(12, 2, 45)"
      ]
     },
     "execution_count": 9,
     "metadata": {},
     "output_type": "execute_result"
    }
   ],
   "source": [
    "range(12,2,45)"
   ]
  },
  {
   "cell_type": "code",
   "execution_count": 11,
   "id": "formed-restaurant",
   "metadata": {},
   "outputs": [],
   "source": [
    "# syntax:\n",
    "# for var in range(start,end,diff):\n",
    " # statements"
   ]
  },
  {
   "cell_type": "code",
   "execution_count": 26,
   "id": "capital-approach",
   "metadata": {},
   "outputs": [
    {
     "name": "stdout",
     "output_type": "stream",
     "text": [
      "enter a namevirat\n",
      "virat\n",
      "virat\n",
      "virat\n",
      "virat\n",
      "virat\n",
      "virat\n",
      "virat\n",
      "virat\n",
      "virat\n",
      "virat\n"
     ]
    }
   ],
   "source": [
    "a=input(\"enter a name\")\n",
    "for i in range(1,11):\n",
    "   print (a)"
   ]
  },
  {
   "cell_type": "code",
   "execution_count": 25,
   "id": "equivalent-constitutional",
   "metadata": {},
   "outputs": [
    {
     "ename": "SyntaxError",
     "evalue": "invalid syntax (<ipython-input-25-d9e7785975b1>, line 2)",
     "output_type": "error",
     "traceback": [
      "\u001b[1;36m  File \u001b[1;32m\"<ipython-input-25-d9e7785975b1>\"\u001b[1;36m, line \u001b[1;32m2\u001b[0m\n\u001b[1;33m    for i range(1,100+1,2):\u001b[0m\n\u001b[1;37m          ^\u001b[0m\n\u001b[1;31mSyntaxError\u001b[0m\u001b[1;31m:\u001b[0m invalid syntax\n"
     ]
    }
   ],
   "source": [
    "#a=input(\"enter a name\")\n",
    "for i range(1,100+1,2):\n",
    "print(i,end =\" \")"
   ]
  },
  {
   "cell_type": "code",
   "execution_count": 12,
   "id": "worst-skiing",
   "metadata": {},
   "outputs": [
    {
     "name": "stdout",
     "output_type": "stream",
     "text": [
      "1 3 5 7 9 11 13 15 17 19 21 23 25 27 29 31 33 35 37 39 41 43 45 47 49 51 53 55 57 59 61 63 65 67 69 71 73 75 77 79 81 83 85 87 89 91 93 95 97 99 "
     ]
    }
   ],
   "source": [
    "for i in range(0,100):\n",
    "    if i%2!=0:\n",
    "        print(i,end=\" \")"
   ]
  },
  {
   "cell_type": "code",
   "execution_count": 71,
   "id": "patient-depression",
   "metadata": {},
   "outputs": [
    {
     "name": "stdout",
     "output_type": "stream",
     "text": [
      "enter a number2\n",
      "even 2\n"
     ]
    }
   ],
   "source": [
    "g=int(input('enter a number'))\n",
    "if g%2==0:\n",
    "     print(\"even\",g)\n",
    "else:\n",
    "     print(\"odd\",g)"
   ]
  },
  {
   "cell_type": "code",
   "execution_count": 79,
   "id": "played-retirement",
   "metadata": {},
   "outputs": [
    {
     "name": "stdout",
     "output_type": "stream",
     "text": [
      "enter a number1\n",
      "1 "
     ]
    }
   ],
   "source": [
    "n=int(input(\"enter a number\"))\n",
    "cnt = 0\n",
    "for i in range(1,n+1):\n",
    "    if n%i==0:\n",
    "        print(i,end=' ')"
   ]
  },
  {
   "cell_type": "code",
   "execution_count": 80,
   "id": "numerous-jimmy",
   "metadata": {},
   "outputs": [
    {
     "name": "stdout",
     "output_type": "stream",
     "text": [
      "enter a number100\n",
      "1 2 4 5 10 20 25 50 100 "
     ]
    }
   ],
   "source": [
    "n=int(input(\"enter a number\"))\n",
    "cnt = 0\n",
    "for i in range(1,n+1):\n",
    "    if n%i==0:\n",
    "        print(i,end=' ')"
   ]
  },
  {
   "cell_type": "code",
   "execution_count": 83,
   "id": "operating-delhi",
   "metadata": {},
   "outputs": [
    {
     "name": "stdout",
     "output_type": "stream",
     "text": [
      "enter a number;12\n",
      "1 factor count is : 1\n",
      "2 factor count is : 2\n",
      "3 factor count is : 3\n",
      "4 factor count is : 4\n",
      "5 factor count is : 4\n",
      "6 factor count is : 5\n",
      "7 factor count is : 5\n",
      "8 factor count is : 5\n",
      "9 factor count is : 5\n",
      "10 factor count is : 5\n",
      "11 factor count is : 5\n",
      "12 factor count is : 6\n"
     ]
    }
   ],
   "source": [
    "n=int(input(\"enter a number;\"))\n",
    "cnt=0\n",
    "for i in range(1,n+1):\n",
    "    if n%i==0:\n",
    "        cnt+=1\n",
    "    print(i,end=\" \")\n",
    "    print('factor count is :',cnt)"
   ]
  },
  {
   "cell_type": "code",
   "execution_count": 10,
   "id": "electric-movie",
   "metadata": {},
   "outputs": [
    {
     "ename": "SyntaxError",
     "evalue": "invalid syntax (<ipython-input-10-27104c28d321>, line 4)",
     "output_type": "error",
     "traceback": [
      "\u001b[1;36m  File \u001b[1;32m\"<ipython-input-10-27104c28d321>\"\u001b[1;36m, line \u001b[1;32m4\u001b[0m\n\u001b[1;33m    if n%i== 0\u001b[0m\n\u001b[1;37m              ^\u001b[0m\n\u001b[1;31mSyntaxError\u001b[0m\u001b[1;31m:\u001b[0m invalid syntax\n"
     ]
    }
   ],
   "source": [
    "t= int(input(\"enter a number\"))\n",
    "cnt=0\n",
    "for i in range(1,n+1):\n",
    "    if n%i== 0\n",
    "        cnt+=0\n",
    "        print(i,end =' ')\n",
    "        print(\"factors count is :\",cnt)\n",
    "        if cnt == 2\n",
    "        print('number is prime')\n",
    "        else:\n",
    "            print('not a prime number')"
   ]
  },
  {
   "cell_type": "code",
   "execution_count": 16,
   "id": "suffering-inside",
   "metadata": {},
   "outputs": [],
   "source": [
    "# break\n",
    "# continue\n",
    "for i in range(1,10):\n",
    "    if i == 5:\n",
    "        continue\n",
    "        print(i,end = ' ')"
   ]
  },
  {
   "cell_type": "code",
   "execution_count": 17,
   "id": "southern-mauritius",
   "metadata": {},
   "outputs": [],
   "source": [
    "# break\n",
    "# continue\n",
    "for i in range(1,10):\n",
    "    if i == 5:\n",
    "        continue\n",
    "        print(i,end = ' ')"
   ]
  },
  {
   "cell_type": "code",
   "execution_count": null,
   "id": "binding-authority",
   "metadata": {},
   "outputs": [],
   "source": []
  }
 ],
 "metadata": {
  "kernelspec": {
   "display_name": "Python 3",
   "language": "python",
   "name": "python3"
  },
  "language_info": {
   "codemirror_mode": {
    "name": "ipython",
    "version": 3
   },
   "file_extension": ".py",
   "mimetype": "text/x-python",
   "name": "python",
   "nbconvert_exporter": "python",
   "pygments_lexer": "ipython3",
   "version": "3.8.0"
  }
 },
 "nbformat": 4,
 "nbformat_minor": 5
}
